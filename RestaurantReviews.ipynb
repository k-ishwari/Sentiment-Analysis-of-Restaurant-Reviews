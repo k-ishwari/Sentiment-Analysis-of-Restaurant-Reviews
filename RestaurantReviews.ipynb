{
 "cells": [
  {
   "cell_type": "code",
   "execution_count": 3,
   "id": "b9732fbd-39be-4dd3-a2b9-5c8b87639c33",
   "metadata": {},
   "outputs": [
    {
     "name": "stdout",
     "output_type": "stream",
     "text": [
      "Collecting nltk\n",
      "  Downloading nltk-3.9.1-py3-none-any.whl.metadata (2.9 kB)\n",
      "Collecting click (from nltk)\n",
      "  Downloading click-8.1.7-py3-none-any.whl.metadata (3.0 kB)\n",
      "Requirement already satisfied: joblib in c:\\users\\ishwari kadam\\appdata\\local\\programs\\python\\python310\\lib\\site-packages (from nltk) (1.3.2)\n",
      "Collecting regex>=2021.8.3 (from nltk)\n",
      "  Downloading regex-2024.11.6-cp310-cp310-win_amd64.whl.metadata (41 kB)\n",
      "     ---------------------------------------- 0.0/41.5 kB ? eta -:--:--\n",
      "     ------------------ ------------------- 20.5/41.5 kB 640.0 kB/s eta 0:00:01\n",
      "     -------------------------------------- 41.5/41.5 kB 396.3 kB/s eta 0:00:00\n",
      "Requirement already satisfied: tqdm in c:\\users\\ishwari kadam\\appdata\\local\\programs\\python\\python310\\lib\\site-packages (from nltk) (4.66.2)\n",
      "Requirement already satisfied: colorama in c:\\users\\ishwari kadam\\appdata\\local\\programs\\python\\python310\\lib\\site-packages (from click->nltk) (0.4.6)\n",
      "Downloading nltk-3.9.1-py3-none-any.whl (1.5 MB)\n",
      "   ---------------------------------------- 0.0/1.5 MB ? eta -:--:--\n",
      "    --------------------------------------- 0.0/1.5 MB 660.6 kB/s eta 0:00:03\n",
      "   -- ------------------------------------- 0.1/1.5 MB 919.0 kB/s eta 0:00:02\n",
      "   --- ------------------------------------ 0.1/1.5 MB 1.2 MB/s eta 0:00:02\n",
      "   ----- ---------------------------------- 0.2/1.5 MB 1.4 MB/s eta 0:00:01\n",
      "   ------- -------------------------------- 0.3/1.5 MB 1.5 MB/s eta 0:00:01\n",
      "   -------- ------------------------------- 0.3/1.5 MB 1.4 MB/s eta 0:00:01\n",
      "   -------- ------------------------------- 0.3/1.5 MB 1.4 MB/s eta 0:00:01\n",
      "   -------- ------------------------------- 0.3/1.5 MB 1.4 MB/s eta 0:00:01\n",
      "   -------- ------------------------------- 0.3/1.5 MB 846.5 kB/s eta 0:00:02\n",
      "   --------- ------------------------------ 0.4/1.5 MB 791.2 kB/s eta 0:00:02\n",
      "   ---------- ----------------------------- 0.4/1.5 MB 836.4 kB/s eta 0:00:02\n",
      "   ------------ --------------------------- 0.5/1.5 MB 867.8 kB/s eta 0:00:02\n",
      "   -------------- ------------------------- 0.6/1.5 MB 939.0 kB/s eta 0:00:02\n",
      "   ---------------- ----------------------- 0.6/1.5 MB 966.7 kB/s eta 0:00:01\n",
      "   ------------------- -------------------- 0.7/1.5 MB 1.1 MB/s eta 0:00:01\n",
      "   ---------------------- ----------------- 0.8/1.5 MB 1.1 MB/s eta 0:00:01\n",
      "   ---------------------- ----------------- 0.8/1.5 MB 1.1 MB/s eta 0:00:01\n",
      "   ------------------------ --------------- 0.9/1.5 MB 1.1 MB/s eta 0:00:01\n",
      "   ------------------------- -------------- 1.0/1.5 MB 1.1 MB/s eta 0:00:01\n",
      "   -------------------------- ------------- 1.0/1.5 MB 1.1 MB/s eta 0:00:01\n",
      "   ----------------------------- ---------- 1.1/1.5 MB 1.2 MB/s eta 0:00:01\n",
      "   ----------------------------- ---------- 1.1/1.5 MB 1.2 MB/s eta 0:00:01\n",
      "   ----------------------------- ---------- 1.1/1.5 MB 1.2 MB/s eta 0:00:01\n",
      "   ----------------------------- ---------- 1.1/1.5 MB 1.2 MB/s eta 0:00:01\n",
      "   ----------------------------- ---------- 1.1/1.5 MB 1.2 MB/s eta 0:00:01\n",
      "   ----------------------------- ---------- 1.1/1.5 MB 1.2 MB/s eta 0:00:01\n",
      "   ----------------------------- ---------- 1.1/1.5 MB 1.2 MB/s eta 0:00:01\n",
      "   ----------------------------- ---------- 1.1/1.5 MB 1.2 MB/s eta 0:00:01\n",
      "   ------------------------------- -------- 1.2/1.5 MB 871.3 kB/s eta 0:00:01\n",
      "   ------------------------------- -------- 1.2/1.5 MB 859.0 kB/s eta 0:00:01\n",
      "   -------------------------------- ------- 1.2/1.5 MB 840.3 kB/s eta 0:00:01\n",
      "   ---------------------------------- ----- 1.3/1.5 MB 885.3 kB/s eta 0:00:01\n",
      "   ------------------------------------ --- 1.4/1.5 MB 901.1 kB/s eta 0:00:01\n",
      "   ---------------------------------------  1.5/1.5 MB 936.9 kB/s eta 0:00:01\n",
      "   ---------------------------------------  1.5/1.5 MB 936.9 kB/s eta 0:00:01\n",
      "   ---------------------------------------- 1.5/1.5 MB 911.2 kB/s eta 0:00:00\n",
      "Downloading regex-2024.11.6-cp310-cp310-win_amd64.whl (274 kB)\n",
      "   ---------------------------------------- 0.0/274.0 kB ? eta -:--:--\n",
      "   ---- ----------------------------------- 30.7/274.0 kB ? eta -:--:--\n",
      "   ------------- -------------------------- 92.2/274.0 kB 1.7 MB/s eta 0:00:01\n",
      "   -------------------------- ------------- 184.3/274.0 kB 1.6 MB/s eta 0:00:01\n",
      "   ------------------------------------- -- 256.0/274.0 kB 2.0 MB/s eta 0:00:01\n",
      "   ------------------------------------- -- 256.0/274.0 kB 2.0 MB/s eta 0:00:01\n",
      "   ---------------------------------------- 274.0/274.0 kB 1.1 MB/s eta 0:00:00\n",
      "Downloading click-8.1.7-py3-none-any.whl (97 kB)\n",
      "   ---------------------------------------- 0.0/97.9 kB ? eta -:--:--\n",
      "   ------------------------------------- -- 92.2/97.9 kB 2.6 MB/s eta 0:00:01\n",
      "   ---------------------------------------- 97.9/97.9 kB 1.4 MB/s eta 0:00:00\n",
      "Installing collected packages: regex, click, nltk\n",
      "Successfully installed click-8.1.7 nltk-3.9.1 regex-2024.11.6\n",
      "Note: you may need to restart the kernel to use updated packages.\n"
     ]
    },
    {
     "name": "stderr",
     "output_type": "stream",
     "text": [
      "\n",
      "[notice] A new release of pip is available: 24.0 -> 24.3.1\n",
      "[notice] To update, run: python.exe -m pip install --upgrade pip\n"
     ]
    }
   ],
   "source": [
    "pip install nltk"
   ]
  },
  {
   "cell_type": "code",
   "execution_count": 4,
   "id": "ab3c8013-3ebd-48bd-8ed4-1eddafdea74d",
   "metadata": {},
   "outputs": [],
   "source": [
    "import nltk\n",
    "from nltk.sentiment.vader import SentimentIntensityAnalyzer\n",
    "import pandas as pd"
   ]
  },
  {
   "cell_type": "code",
   "execution_count": 5,
   "id": "6967b341-04dd-4c24-86e8-a72ec799886c",
   "metadata": {},
   "outputs": [
    {
     "name": "stderr",
     "output_type": "stream",
     "text": [
      "[nltk_data] Downloading package vader_lexicon to C:\\Users\\Ishwari\n",
      "[nltk_data]     Kadam\\AppData\\Roaming\\nltk_data...\n"
     ]
    },
    {
     "data": {
      "text/plain": [
       "True"
      ]
     },
     "execution_count": 5,
     "metadata": {},
     "output_type": "execute_result"
    }
   ],
   "source": [
    "# Download the VADER lexicon\n",
    "nltk.download('vader_lexicon')\n"
   ]
  },
  {
   "cell_type": "code",
   "execution_count": null,
   "id": "adca9788-9b16-4201-b68a-a1628dfb3a9b",
   "metadata": {},
   "outputs": [],
   "source": [
    "#loading data from S3 bucket\n",
    "s3_bucket = 'reviewssentimentanalysis'\n",
    "file_name = 'RestaurantReviews.xlsx'"
   ]
  },
  {
   "cell_type": "code",
   "execution_count": null,
   "id": "38452e16-48b8-4c9e-bfc5-3b97bb77e568",
   "metadata": {},
   "outputs": [],
   "source": [
    "# Use boto3 to download the file from S3\n",
    "import boto3\n",
    "s3 = boto3.client('s3')\n",
    "s3.download_file(s3_bucket, file_name, 'RestaurantReviews.xlsx')"
   ]
  },
  {
   "cell_type": "code",
   "execution_count": null,
   "id": "8992cb92-380c-4e24-b0a7-dbbf2d8d08ed",
   "metadata": {},
   "outputs": [],
   "source": [
    "df = pd.read_excel('RestaurantReviews.xlsx')"
   ]
  },
  {
   "cell_type": "code",
   "execution_count": null,
   "id": "0adec7ee-5587-42ad-a014-f99b340e7fa0",
   "metadata": {},
   "outputs": [],
   "source": [
    "# Initialize the VADER sentiment analyzer\n",
    "sid = SentimentIntensityAnalyzer()"
   ]
  },
  {
   "cell_type": "code",
   "execution_count": null,
   "id": "aa850c8d-524b-4eb2-805c-c39bf994066c",
   "metadata": {},
   "outputs": [],
   "source": [
    "def get_sentiment(text):\n",
    "    # Get polarity scores\n",
    "    scores = sid.polarity_scores(text)\n",
    "    compound = scores['compound']\n",
    "\n",
    "    # Classify sentiment\n",
    "    if compound >= 0.05:\n",
    "        sentiment = 'Positive'\n",
    "    elif compound <= -0.05:\n",
    "        sentiment = 'Negative'\n",
    "    else:\n",
    "        sentiment = 'Neutral'\n",
    "\n",
    "    # Return scores along with sentiment label\n",
    "    return compound, scores['pos'], scores['neu'], scores['neg'], sentiment"
   ]
  },
  {
   "cell_type": "code",
   "execution_count": null,
   "id": "2b3e7723-fde8-420f-8474-4a3b66c2bcfa",
   "metadata": {},
   "outputs": [],
   "source": [
    "df[['Compound', 'Positive', 'Neutral', 'Negative', 'Sentiment']] = df['Description'].apply(lambda x: pd.Series(get_sentiment(x)))"
   ]
  },
  {
   "cell_type": "code",
   "execution_count": null,
   "id": "6da88b5f-3547-4919-8e97-551d48cfd850",
   "metadata": {},
   "outputs": [],
   "source": [
    "df['Sentiment'].value_counts()"
   ]
  },
  {
   "cell_type": "code",
   "execution_count": null,
   "id": "a71d51d6-d0ae-41bf-a829-0738f8a1d39a",
   "metadata": {},
   "outputs": [],
   "source": [
    "df[['Date', 'Group']] = df['DateandGroup'].str.split(' • ', expand=True)"
   ]
  },
  {
   "cell_type": "code",
   "execution_count": null,
   "id": "1335cd1b-9acb-46c3-ad99-2e941b40e5d4",
   "metadata": {},
   "outputs": [],
   "source": [
    "df.to_csv('sentiment_results.csv', index=False)"
   ]
  },
  {
   "cell_type": "code",
   "execution_count": null,
   "id": "5b8b8a14-1d13-4070-bef5-ff5cfd21bf6c",
   "metadata": {},
   "outputs": [],
   "source": [
    "# Upload the results back to S3\n",
    "s3.upload_file('sentiment_results.csv', s3_bucket, 'sentiment_results.csv')"
   ]
  },
  {
   "cell_type": "code",
   "execution_count": null,
   "id": "786c0483-280a-4d68-a1a2-5a228820971a",
   "metadata": {},
   "outputs": [],
   "source": [
    "print(\"Sentiment analysis completed and results saved to S3!\")\n"
   ]
  },
  {
   "cell_type": "code",
   "execution_count": null,
   "id": "0add5847-2d2f-4b22-803d-34556256603f",
   "metadata": {},
   "outputs": [],
   "source": []
  }
 ],
 "metadata": {
  "kernelspec": {
   "display_name": "Python 3 (ipykernel)",
   "language": "python",
   "name": "python3"
  },
  "language_info": {
   "codemirror_mode": {
    "name": "ipython",
    "version": 3
   },
   "file_extension": ".py",
   "mimetype": "text/x-python",
   "name": "python",
   "nbconvert_exporter": "python",
   "pygments_lexer": "ipython3",
   "version": "3.10.4"
  }
 },
 "nbformat": 4,
 "nbformat_minor": 5
}
